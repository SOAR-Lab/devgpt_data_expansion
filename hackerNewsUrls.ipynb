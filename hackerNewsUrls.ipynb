{
 "cells": [
  {
   "cell_type": "code",
   "execution_count": 3,
   "id": "247bdbbc-93b6-4652-8f69-1739ad3c93d6",
   "metadata": {},
   "outputs": [
    {
     "name": "stdout",
     "output_type": "stream",
     "text": [
      "CSV file 'hacker_news_urls.csv' has been created with 187 Hacker News URLs.\n"
     ]
    }
   ],
   "source": [
    "import json\n",
    "import csv\n",
    "\n",
    "def create_hacker_news_csv(input_file_path, csv_file_path):\n",
    "    try:\n",
    "        with open(input_file_path, 'r', encoding=\"utf8\") as input_file:\n",
    "            data = json.load(input_file)\n",
    "\n",
    "            # Filter for Hacker News URLs\n",
    "            rows = [(entry[\"URL\"]) for entry in data[\"Sources\"] if \"URL\" in entry and \"news.ycombinator.com\" in entry[\"URL\"]]\n",
    "\n",
    "        with open(csv_file_path, mode='w', newline='') as file:\n",
    "            writer = csv.writer(file)\n",
    "            writer.writerow([\"Hacker News URL\"])\n",
    "            writer.writerows([[row] for row in rows])  # Write each URL as a single row\n",
    "            print(f\"CSV file '{csv_file_path}' has been created with {len(rows)} Hacker News URLs.\")\n",
    "    except FileNotFoundError:\n",
    "        print(f\"Error: File '{input_file_path}' not found.\")\n",
    "    except json.JSONDecodeError:\n",
    "        print(f\"Error: Unable to decode JSON in file '{input_file_path}'.\")\n",
    "    except KeyError as e:\n",
    "        print(f\"Error: Missing expected key {e} in JSON data.\")\n",
    "    except Exception as e:\n",
    "        print(f\"An unexpected error occurred: {e}\")\n",
    "\n",
    "# Update file paths\n",
    "input_file_path = '../../DevGPT/snapshot_20231012/20231012_232232_hn_sharings.json'\n",
    "csv_file_path = 'hacker_news_urls.csv'\n",
    "\n",
    "create_hacker_news_csv(input_file_path, csv_file_path)\n"
   ]
  },
  {
   "cell_type": "code",
   "execution_count": null,
   "id": "e154ab24-42ac-4a72-b1dd-d94f0617b937",
   "metadata": {},
   "outputs": [],
   "source": []
  }
 ],
 "metadata": {
  "kernelspec": {
   "display_name": "Python 3 (ipykernel)",
   "language": "python",
   "name": "python3"
  },
  "language_info": {
   "codemirror_mode": {
    "name": "ipython",
    "version": 3
   },
   "file_extension": ".py",
   "mimetype": "text/x-python",
   "name": "python",
   "nbconvert_exporter": "python",
   "pygments_lexer": "ipython3",
   "version": "3.11.7"
  }
 },
 "nbformat": 4,
 "nbformat_minor": 5
}
